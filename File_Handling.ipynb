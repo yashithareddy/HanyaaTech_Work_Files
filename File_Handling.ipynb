{
 "cells": [
  {
   "cell_type": "code",
   "execution_count": 2,
   "id": "8940bb85-8d39-4841-bdd6-94edd63eaabc",
   "metadata": {},
   "outputs": [],
   "source": [
    "import os\n",
    "import numpy as np\n",
    "import pandas as pd"
   ]
  },
  {
   "cell_type": "code",
   "execution_count": 5,
   "id": "50380d07-022a-4dd0-bdfe-abf92c76484b",
   "metadata": {},
   "outputs": [
    {
     "ename": "FileNotFoundError",
     "evalue": "[Errno 2] No such file or directory: 'C:\\\\WORK_FOLDER\\\\File_Handling\\\\file_1.txt'",
     "output_type": "error",
     "traceback": [
      "\u001b[1;31m---------------------------------------------------------------------------\u001b[0m",
      "\u001b[1;31mFileNotFoundError\u001b[0m                         Traceback (most recent call last)",
      "Cell \u001b[1;32mIn[5], line 2\u001b[0m\n\u001b[0;32m      1\u001b[0m \u001b[38;5;66;03m# Lets open a file that dosen't exist\u001b[39;00m\n\u001b[1;32m----> 2\u001b[0m f \u001b[38;5;241m=\u001b[39m \u001b[38;5;28mopen\u001b[39m(\u001b[38;5;124mr\u001b[39m\u001b[38;5;124m'\u001b[39m\u001b[38;5;124mC:\u001b[39m\u001b[38;5;124m\\\u001b[39m\u001b[38;5;124mWORK_FOLDER\u001b[39m\u001b[38;5;124m\\\u001b[39m\u001b[38;5;124mFile_Handling\u001b[39m\u001b[38;5;124m\\\u001b[39m\u001b[38;5;124mfile_1.txt\u001b[39m\u001b[38;5;124m'\u001b[39m)\n",
      "File \u001b[1;32m~\\anaconda3\\Lib\\site-packages\\IPython\\core\\interactiveshell.py:310\u001b[0m, in \u001b[0;36m_modified_open\u001b[1;34m(file, *args, **kwargs)\u001b[0m\n\u001b[0;32m    303\u001b[0m \u001b[38;5;28;01mif\u001b[39;00m file \u001b[38;5;129;01min\u001b[39;00m {\u001b[38;5;241m0\u001b[39m, \u001b[38;5;241m1\u001b[39m, \u001b[38;5;241m2\u001b[39m}:\n\u001b[0;32m    304\u001b[0m     \u001b[38;5;28;01mraise\u001b[39;00m \u001b[38;5;167;01mValueError\u001b[39;00m(\n\u001b[0;32m    305\u001b[0m         \u001b[38;5;124mf\u001b[39m\u001b[38;5;124m\"\u001b[39m\u001b[38;5;124mIPython won\u001b[39m\u001b[38;5;124m'\u001b[39m\u001b[38;5;124mt let you open fd=\u001b[39m\u001b[38;5;132;01m{\u001b[39;00mfile\u001b[38;5;132;01m}\u001b[39;00m\u001b[38;5;124m by default \u001b[39m\u001b[38;5;124m\"\u001b[39m\n\u001b[0;32m    306\u001b[0m         \u001b[38;5;124m\"\u001b[39m\u001b[38;5;124mas it is likely to crash IPython. If you know what you are doing, \u001b[39m\u001b[38;5;124m\"\u001b[39m\n\u001b[0;32m    307\u001b[0m         \u001b[38;5;124m\"\u001b[39m\u001b[38;5;124myou can use builtins\u001b[39m\u001b[38;5;124m'\u001b[39m\u001b[38;5;124m open.\u001b[39m\u001b[38;5;124m\"\u001b[39m\n\u001b[0;32m    308\u001b[0m     )\n\u001b[1;32m--> 310\u001b[0m \u001b[38;5;28;01mreturn\u001b[39;00m io_open(file, \u001b[38;5;241m*\u001b[39margs, \u001b[38;5;241m*\u001b[39m\u001b[38;5;241m*\u001b[39mkwargs)\n",
      "\u001b[1;31mFileNotFoundError\u001b[0m: [Errno 2] No such file or directory: 'C:\\\\WORK_FOLDER\\\\File_Handling\\\\file_1.txt'"
     ]
    }
   ],
   "source": [
    "# Lets open a file that dosen't exist\n",
    "f = open(r'C:\\WORK_FOLDER\\File_Handling\\file_1.txt')"
   ]
  },
  {
   "cell_type": "code",
   "execution_count": 22,
   "id": "c3b19a98-543c-42cd-960b-7089dd53816d",
   "metadata": {},
   "outputs": [
    {
     "name": "stdout",
     "output_type": "stream",
     "text": [
      "The file you are trying to open is not exists\n"
     ]
    }
   ],
   "source": [
    "# Lets Handle this error\n",
    "# this is one way to handle, but not used in real-time\n",
    "try:\n",
    "    f = open(r'C:\\WORK_FOLDER\\File_Handling\\file_1.txt', 'r')\n",
    "except FileNotFoundError as F:\n",
    "    print('The file you are trying to open is not exists')\n",
    "finally:\n",
    "    with open(r'C:\\WORK_FOLDER\\File_Handling\\file_1.txt','w') as f:\n",
    "        f.write(\"Hello, How You Doing?\")"
   ]
  },
  {
   "cell_type": "code",
   "execution_count": 23,
   "id": "8b302f16-864c-4193-82bf-1953c3d4096f",
   "metadata": {},
   "outputs": [
    {
     "name": "stdout",
     "output_type": "stream",
     "text": [
      "Hello, How You Doing?\n"
     ]
    }
   ],
   "source": [
    "with open(r'C:\\WORK_FOLDER\\File_Handling\\file_1.txt', 'r') as f:\n",
    "    result = f.read()\n",
    "    print(result)"
   ]
  },
  {
   "cell_type": "code",
   "execution_count": 27,
   "id": "68ce1057-09bb-4b40-baaa-93634ad9682b",
   "metadata": {},
   "outputs": [
    {
     "name": "stdout",
     "output_type": "stream",
     "text": [
      "The file you are trying to open does not exist, Please create a file and write content\n",
      "Writing...Done!\n",
      "File handling refers to the ability of a program to interact with files on a computer's storage device. \n",
      "        This includes creating, opening, reading from, writing to, and closing files. \n",
      "        Python provides functionalities to perform these operations on various file types like text files, CSV files, image files, and more.\n"
     ]
    }
   ],
   "source": [
    "# The best way to use Error Handling while dealing with File Handling\n",
    "\n",
    "try:\n",
    "    f = open(r'C:\\WORK_FOLDER\\File_Handling\\file_2.txt','r') # text file 2 does not exist\n",
    "\n",
    "except FileNotFoundError:\n",
    "    print('The file you are trying to open does not exist, Please create a file and write content')\n",
    "    print('Writing...Done!')\n",
    "    with open(r'C:\\WORK_FOLDER\\File_Handling\\file_2.txt','w') as f:\n",
    "        f.write('''File handling refers to the ability of a program to interact with files on a computer's storage device. \n",
    "        This includes creating, opening, reading from, writing to, and closing files. \n",
    "        Python provides functionalities to perform these operations on various file types like text files, CSV files, image files, and more.''')\n",
    "\n",
    "with open(r'C:\\WORK_FOLDER\\File_Handling\\file_2.txt','r') as f:\n",
    "    result = f.read()\n",
    "\n",
    "print(result)"
   ]
  },
  {
   "cell_type": "code",
   "execution_count": null,
   "id": "9e289834-1067-426d-a7c6-8bb73dbe7993",
   "metadata": {},
   "outputs": [],
   "source": []
  }
 ],
 "metadata": {
  "kernelspec": {
   "display_name": "Python 3 (ipykernel)",
   "language": "python",
   "name": "python3"
  },
  "language_info": {
   "codemirror_mode": {
    "name": "ipython",
    "version": 3
   },
   "file_extension": ".py",
   "mimetype": "text/x-python",
   "name": "python",
   "nbconvert_exporter": "python",
   "pygments_lexer": "ipython3",
   "version": "3.11.7"
  }
 },
 "nbformat": 4,
 "nbformat_minor": 5
}
